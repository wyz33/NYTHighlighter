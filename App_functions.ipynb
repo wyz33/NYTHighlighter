{
 "cells": [
  {
   "cell_type": "code",
   "execution_count": 12,
   "metadata": {
    "collapsed": true
   },
   "outputs": [],
   "source": [
    "import unidecode\n",
    "import requests\n",
    "import pandas as pd\n",
    "import numpy as np\n",
    "import re\n",
    "from dateutil.parser import parse\n",
    "from random import randint\n",
    "from time import sleep\n",
    "import warnings\n",
    "warnings.filterwarnings('ignore')\n",
    "import matplotlib.pyplot as plt\n",
    "from __future__ import division\n",
    "import collections\n",
    "from collections import Counter\n",
    "from sklearn import grid_search, decomposition\n",
    "import pickle\n",
    "import json\n",
    "from pymongo import MongoClient\n",
    "client = MongoClient()\n",
    "# To Plot matplotlib figures inline on the notebook\n",
    "%matplotlib inline\n",
    "from textblob import TextBlob\n",
    "from textblob.np_extractors import ConllExtractor, FastNPExtractor\n",
    "from sklearn.feature_extraction.text import TfidfVectorizer, CountVectorizer\n",
    "from sklearn.decomposition import NMF, LatentDirichletAllocation\n",
    "from bs4 import BeautifulSoup\n",
    "def split_into_lemmas(message):\n",
    "    words = []\n",
    "    message = unidecode.unidecode(message)\n",
    "    message = TextBlob(message).lower()\n",
    "    for i in message.words:\n",
    "        if len(i)>1:\n",
    "            words.append(i)\n",
    "    #words2 = blobextract(message)\n",
    "    #result = words2 + words\n",
    "    # for each word, take its \"base form\" = lemma \n",
    "    return words\n",
    "\n",
    "def unescape(text):\n",
    "    def fixup(m):\n",
    "        text = m.group(0)\n",
    "        if text[:2] == \"&#\":\n",
    "            # character reference\n",
    "            try:\n",
    "                if text[:3] == \"&#x\":\n",
    "                    return unichr(int(text[3:-1], 16))\n",
    "                else:\n",
    "                    return unichr(int(text[2:-1]))\n",
    "            except ValueError:\n",
    "                pass\n",
    "        else:\n",
    "            # named entity\n",
    "            try:\n",
    "                text = unichr(htmlentitydefs.name2codepoint[text[1:-1]])\n",
    "            except KeyError:\n",
    "                pass\n",
    "        return text # leave as is\n",
    "    return re.sub(\"&#?\\w+;\", fixup, text)\n",
    "def makesoup(link):\n",
    "    response = requests.get(link)\n",
    "    page = response.text\n",
    "    soup = BeautifulSoup(page, \"lxml\")\n",
    "    return soup"
   ]
  },
  {
   "cell_type": "code",
   "execution_count": 15,
   "metadata": {
    "collapsed": false
   },
   "outputs": [],
   "source": [
    "#pickle.dump(nmf, open( \"nmf_model.p\", \"wb\" ) )\n",
    "#pickle.dump(tfidf_vectorizer, open('tfidf.p', 'wb'))\n",
    "#pickle.dump(topics, open('topics.p', 'wb'))\n",
    "nmf = pickle.load( open( \"nmf_model.p\", \"rb\" ) )\n",
    "tfidf_vectorizer = pickle.load( open( \"tfidf.p\", \"rb\" ) )\n",
    "topics = pickle.load( open( \"topics.p\", \"rb\" ) )\n",
    "tfidf_feature_names = tfidf_vectorizer.get_feature_names()"
   ]
  },
  {
   "cell_type": "code",
   "execution_count": 55,
   "metadata": {
    "collapsed": false
   },
   "outputs": [],
   "source": [
    "link = 'http://www.nytimes.com/2016/11/05/world/africa/south-sudan-united-nations.html'\n",
    "soup = makesoup(link)\n",
    "title = unescape(soup.find('h1', class_ = 'headline').text)\n",
    "text = unescape(' '.join([j.text for j in soup.findAll('p', class_ = 'story-body-text story-content')]))"
   ]
  },
  {
   "cell_type": "code",
   "execution_count": 52,
   "metadata": {
    "collapsed": false
   },
   "outputs": [],
   "source": [
    "\n",
    "def get_sentences(text):\n",
    "    highlited = ''\n",
    "    #transform document into existing nytimes tfidf space\n",
    "    mew = tfidf_vectorizer.transform([text])\n",
    "    #transform vectorized document into topic space\n",
    "    mu = nmf.transform(mew)[0]\n",
    "    b = mu.argsort()[::-1]\n",
    "    num = len(mu[mu>=0.008])\n",
    "    topic2word = [{} for _ in range(num)]\n",
    "    topicw = np.zeros(num)\n",
    "    z = 0\n",
    "    #make dictionary of words to weight for each top topic\n",
    "    for ind, i in enumerate(b[:num]):\n",
    "        if i == 0:\n",
    "            z = 1\n",
    "            print ('general interest')\n",
    "        else:\n",
    "            print (topics[i], mu[i])\n",
    "            weights = nmf.components_[i][nmf.components_[i]>0]\n",
    "            words = np.array(tfidf_feature_names)[nmf.components_[i]>0]\n",
    "            dic = zip(words, weights)\n",
    "            topic2word[ind-z] = dict((x, y) for x, y in dic)\n",
    "            topicw[ind-z] = mu[i]\n",
    "    topicw = topicw/np.max(topicw)\n",
    "    \n",
    "    n_top_sen = 5\n",
    "    document = unidecode.unidecode(text)\n",
    "    blob = TextBlob(text).lower()\n",
    "    sentence_score = []\n",
    "\n",
    "    for j in blob.sentences:\n",
    "        score = 0\n",
    "        for i in set(j.words):\n",
    "            for ind, topic in enumerate(topic2word):\n",
    "                if i in topic.keys():\n",
    "                    score += topic[i]#*topicw[ind]\n",
    "        if len(j.words) >= 10:\n",
    "            #print j\n",
    "            #print score/len(j.words)\n",
    "            sentence_score.append(score/len(j.words))\n",
    "        else:\n",
    "            #print j\n",
    "            #print 'too short!!'\n",
    "            sentence_score.append(0)\n",
    "    sentence_score = np.array(sentence_score)\n",
    "    indlist = sentence_score.argsort()[:-n_top_sen - 1:-1]\n",
    "    for ind, sent in enumerate(TextBlob(text).sentences):\n",
    "        \n",
    "        if ind == indlist[0]:\n",
    "            new = ' <p class=\"bg-warning\">'+str(sent)+'</p>'\n",
    "        elif ind in indlist[1:]:\n",
    "            new = ' <p class=\"bg-warning\">'+str(sent)+'</p>'       \n",
    "        else: \n",
    "            new = ' '+str(sent)\n",
    "        highlited += new\n",
    "        \n",
    "    #sentence_list = '\\n'.join([str(TextBlob(text).sentences[i] for i in sentence_score.argsort()[:-n_top_sen - 1:-1]] )\n",
    "    return highlited"
   ]
  },
  {
   "cell_type": "code",
   "execution_count": 17,
   "metadata": {
    "collapsed": true
   },
   "outputs": [],
   "source": [
    "tfidf_feature_names = tfidf_vectorizer.get_feature_names()"
   ]
  },
  {
   "cell_type": "code",
   "execution_count": 18,
   "metadata": {
    "collapsed": false
   },
   "outputs": [
    {
     "name": "stdout",
     "output_type": "stream",
     "text": [
      "(u'party-republican-republicans-voters-democrats', 0.04323008628693166)\n",
      "(u'trump-donald-republican-campaign-mr', 0.039219979535119194)\n",
      "(u'clinton-mrs-campaign-hillary-voters', 0.034428165538774633)\n",
      "(u'obama-president-white-administration-house', 0.017386952756056555)\n",
      "general interest\n"
     ]
    }
   ],
   "source": [
    "b = mu.argsort()[::-1]\n",
    "num = len(mu[mu>=0.008])\n",
    "topic2word = [{} for _ in range(num)]\n",
    "topicw = np.zeros(num)\n",
    "z = 0\n",
    "#make dictionary of words to weight for each top topic\n",
    "for ind, i in enumerate(b[:num]):\n",
    "    if i == 0:\n",
    "        z = 1\n",
    "        print ('general interest')\n",
    "    else:\n",
    "        print (topics[i], mu[i])\n",
    "        weights = nmf.components_[i][nmf.components_[i]>0]\n",
    "        words = np.array(tfidf_feature_names)[nmf.components_[i]>0]\n",
    "        dic = zip(words, weights)\n",
    "        topic2word[ind-z] = dict((x, y) for x, y in dic)\n",
    "        topicw[ind-z] = mu[i]\n",
    "topicw = topicw/np.max(topicw)\n"
   ]
  },
  {
   "cell_type": "code",
   "execution_count": 20,
   "metadata": {
    "collapsed": false
   },
   "outputs": [],
   "source": [
    "n_top_sen = 5\n",
    "document = unidecode.unidecode(text)\n",
    "blob = TextBlob(text).lower()\n",
    "sentence_score = []\n",
    "\n",
    "for j in blob.sentences:\n",
    "    score = 0\n",
    "    for i in set(j.words):\n",
    "        for ind, topic in enumerate(topic2word):\n",
    "            if i in topic.keys():\n",
    "                score += topic[i]#*topicw[ind]\n",
    "    if len(j.words) >= 10:\n",
    "        #print j\n",
    "        #print score/len(j.words)\n",
    "        sentence_score.append(score/len(j.words))\n",
    "    else:\n",
    "        #print j\n",
    "        #print 'too short!!'\n",
    "        sentence_score.append(0)\n"
   ]
  },
  {
   "cell_type": "code",
   "execution_count": 38,
   "metadata": {
    "collapsed": false
   },
   "outputs": [],
   "source": [
    "sentence_score = np.array(sentence_score)\n",
    "sentence_list = [TextBlob(text).sentences[i] for i in sentence_score.argsort()[:-n_top_sen - 1:-1]] \n"
   ]
  },
  {
   "cell_type": "code",
   "execution_count": 54,
   "metadata": {
    "collapsed": false
   },
   "outputs": [
    {
     "data": {
      "text/plain": [
       "array([33, 20,  2, 13, 30])"
      ]
     },
     "execution_count": 54,
     "metadata": {},
     "output_type": "execute_result"
    }
   ],
   "source": [
    "sentence_score.argsort()[:-n_top_sen - 1:-1]"
   ]
  },
  {
   "cell_type": "code",
   "execution_count": 32,
   "metadata": {
    "collapsed": false
   },
   "outputs": [
    {
     "data": {
      "text/plain": [
       "42"
      ]
     },
     "execution_count": 32,
     "metadata": {},
     "output_type": "execute_result"
    }
   ],
   "source": [
    "len(TextBlob(text).sentences)"
   ]
  },
  {
   "cell_type": "code",
   "execution_count": 56,
   "metadata": {
    "collapsed": false
   },
   "outputs": [
    {
     "name": "stdout",
     "output_type": "stream",
     "text": [
      "(u'islamic-syria-state-united-government', 0.036848054640386638)\n",
      "(u'obama-president-white-administration-house', 0.014281542737056892)\n",
      "(u'korea-north-nuclear-korean-south', 0.012932001561166468)\n",
      "general interest\n"
     ]
    },
    {
     "data": {
      "text/plain": [
       "' <p class=\"bg-warning\">UNITED NATIONS \\xe2\\x80\\x94 An American diplomat who helped shape the Obama administration\\xe2\\x80\\x99s efforts to steer South Sudan to independence in 2011 says he is appalled by the actions of its leaders, including those he personally knows.</p> <p class=\"bg-warning\">\\xe2\\x80\\x9cI\\xe2\\x80\\x99m horrified and disgusted by it,\\xe2\\x80\\x9d said the diplomat, David Pressman, an alternate American representative to the United Nations.</p> \\xe2\\x80\\x9cHow can you not be?\\xe2\\x80\\x9d Mr. Pressman leaves his post next week to become partner in the law firm of Boies, Schiller & Flexner. \\xe2\\x80\\x9cThe leadership of this country were handed an incredible opportunity,\\xe2\\x80\\x9d he said in an interview, along with what he called \\xe2\\x80\\x9chuge amounts of assistance from the United States and from U.S. taxpayers.\\xe2\\x80\\x9d \\xe2\\x80\\x9cThe choices that have been made are the choices that have led to a fundamental shaking of the nascent foundations of the country, has resulted in innumerable killings, innumerable rapes,\\xe2\\x80\\x9d he said. Mr. Pressman spoke after the United Nations issued a highly critical report on Tuesday on the poor performance of its own peacekeeping mission in South Sudan in connection with a rampage of killing, looting and rape in July by government soldiers in the capital, Juba. Some of the worst violence took place less than a mile from the peacekeeping force\\xe2\\x80\\x99s Juba headquarters, and the report said the peacekeepers did nothing to stop it. <p class=\"bg-warning\">Ambassador Samantha Power of the United States, who led a United Nations Security Council visit to South Sudan in September, also expressed outrage over the findings of the report.</p> \\xe2\\x80\\x9cA number of civilians \\xe2\\x80\\x94 including international aid workers \\xe2\\x80\\x94 were gang-raped, beaten and threatened with death in front of others,\\xe2\\x80\\x9d Ms. Power said in a statement on Thursday. \\xe2\\x80\\x9cAt no time during the attack did the U.N. send help to those in desperate need.\\xe2\\x80\\x9d She acknowledged the South Sudanese government\\xe2\\x80\\x99s announced plan to prosecute suspects implicated in the mayhem, calling it an \\xe2\\x80\\x9cessential first step.\\xe2\\x80\\x9d The remarks by both American diplomats hinted at the difficulty that the United States has faced in helping resolve the political feud that broke out between South Sudan\\xe2\\x80\\x99s two main leaders, President Salva Kiir and his former vice president, Riek Machar, and quickly devolved into a full-on ethnic conflict between their supporters. Since the conflict erupted in December 2013, tens of thousands of people have died and a United Nations report has warned of war crimes. <p class=\"bg-warning\">The Obama administration pushed to strengthen the United Nations peacekeeping mission, but even the mission\\xe2\\x80\\x99s 12,000 soldiers have been unable to protect civilians from some of the worst violence.</p> Mr. Pressman said it had been \\xe2\\x80\\x9cunable to function,\\xe2\\x80\\x9d largely because of impediments imposed by the government, much like those established by the government of Sudan that the South Sudanese once fought. \\xe2\\x80\\x9cThey\\xe2\\x80\\x99re one-upping Khartoum in terms of what they\\xe2\\x80\\x99re doing,\\xe2\\x80\\x9d he said, referring to Sudan\\xe2\\x80\\x99s capital. <p class=\"bg-warning\">After months, the Obama administration reluctantly backed an arms embargo, but ran into resistance from Russia, a veto-wielding member of the Security Council.</p> In any event, Mr. Pressman said, an arms embargo would not solve the country\\xe2\\x80\\x99s crisis. The report on the South Sudan peacekeeping mission also drew outrage from the government of Kenya, a major contributor, because Secretary General Ban Ki-moon ordered the dismissal of the force\\xe2\\x80\\x99s overall commander, a veteran Kenyan officer, who was in charge when the July mayhem took place. Kenya announced on Wednesday that it was withdrawing its soldiers from the mission. It also accused Mr. Ban of scapegoating. \\xe2\\x80\\x9cThere should have been a broader application of culpability,\\xe2\\x80\\x9d Kenya\\xe2\\x80\\x99s United Nations ambassador, Macharia Kamau, said on Thursday. \\xe2\\x80\\x9cThere\\xe2\\x80\\x99s plenty of blame to go around.\\xe2\\x80\\x9d In a further act of retaliation on Friday, Kenya said it had deported a spokesman for the South Sudanese opposition, James Gatdet Dak, a registered refugee, back to South Sudan, provoking protests by United Nations officials who called it a violation of international law. Mr. Gatdet Dak had expressed support for Mr. Ban\\xe2\\x80\\x99s dismissal of the Kenyan commanding officer, Lt. Gen. Johnson Mogoa Kimani Ondieki.'"
      ]
     },
     "execution_count": 56,
     "metadata": {},
     "output_type": "execute_result"
    }
   ],
   "source": [
    "get_sentences(text)"
   ]
  },
  {
   "cell_type": "code",
   "execution_count": null,
   "metadata": {
    "collapsed": true
   },
   "outputs": [],
   "source": []
  }
 ],
 "metadata": {
  "kernelspec": {
   "display_name": "Python [Root]",
   "language": "python",
   "name": "Python [Root]"
  },
  "language_info": {
   "codemirror_mode": {
    "name": "ipython",
    "version": 2
   },
   "file_extension": ".py",
   "mimetype": "text/x-python",
   "name": "python",
   "nbconvert_exporter": "python",
   "pygments_lexer": "ipython2",
   "version": "2.7.12"
  }
 },
 "nbformat": 4,
 "nbformat_minor": 0
}
