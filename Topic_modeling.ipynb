{
 "cells": [
  {
   "cell_type": "code",
   "execution_count": 595,
   "metadata": {
    "collapsed": false
   },
   "outputs": [],
   "source": [
    "# Copyright 2008, Fredrik Lundh\n",
    "\n",
    "import re, htmlentitydefs\n",
    "import unidecode\n",
    "##\n",
    "# Removes HTML or XML character references and entities from a text string.\n",
    "#\n",
    "# @param text The HTML (or XML) source text.\n",
    "# @return The plain text, as a Unicode string, if necessary.\n",
    "\n",
    "def unescape(text):\n",
    "    def fixup(m):\n",
    "        text = m.group(0)\n",
    "        if text[:2] == \"&#\":\n",
    "            # character reference\n",
    "            try:\n",
    "                if text[:3] == \"&#x\":\n",
    "                    return unichr(int(text[3:-1], 16))\n",
    "                else:\n",
    "                    return unichr(int(text[2:-1]))\n",
    "            except ValueError:\n",
    "                pass\n",
    "        else:\n",
    "            # named entity\n",
    "            try:\n",
    "                text = unichr(htmlentitydefs.name2codepoint[text[1:-1]])\n",
    "            except KeyError:\n",
    "                pass\n",
    "        return text # leave as is\n",
    "    return re.sub(\"&#?\\w+;\", fixup, text)"
   ]
  },
  {
   "cell_type": "code",
   "execution_count": 24,
   "metadata": {
    "collapsed": true
   },
   "outputs": [],
   "source": [
    "import requests\n",
    "import pandas as pd\n",
    "import numpy as np\n",
    "import re\n",
    "from dateutil.parser import parse\n",
    "from random import randint\n",
    "from time import sleep\n",
    "import warnings\n",
    "warnings.filterwarnings('ignore')\n",
    "import matplotlib.pyplot as plt\n",
    "from __future__ import division\n",
    "import collections\n",
    "from collections import Counter\n",
    "from sklearn import grid_search, decomposition\n",
    "import pickle\n",
    "import json\n",
    "from pymongo import MongoClient\n",
    "client = MongoClient()\n",
    "# To Plot matplotlib figures inline on the notebook\n",
    "%matplotlib inline\n",
    "from textblob import TextBlob\n",
    "from textblob.np_extractors import ConllExtractor, FastNPExtractor\n",
    "from sklearn.feature_extraction.text import TfidfVectorizer, CountVectorizer\n",
    "from sklearn.decomposition import NMF, LatentDirichletAllocation"
   ]
  },
  {
   "cell_type": "code",
   "execution_count": 1078,
   "metadata": {
    "collapsed": false
   },
   "outputs": [],
   "source": [
    "\n",
    "def blobextract(text):\n",
    "    blob = TextBlob(text, np_extractor=extractor)\n",
    "    return blob.noun_phrases\n",
    "def split_into_lemmas(message):\n",
    "    words = []\n",
    "    message = unidecode.unidecode(message)\n",
    "    message = TextBlob(message).lower()\n",
    "    for i in message.words:\n",
    "        if len(i)>1:\n",
    "            words.append(i)\n",
    "    #words2 = blobextract(message)\n",
    "    #result = words2 + words\n",
    "    # for each word, take its \"base form\" = lemma \n",
    "    return words\n"
   ]
  },
  {
   "cell_type": "code",
   "execution_count": 307,
   "metadata": {
    "collapsed": true
   },
   "outputs": [],
   "source": [
    "data = pd.read_pickle('sampledata.pickle')"
   ]
  },
  {
   "cell_type": "code",
   "execution_count": 332,
   "metadata": {
    "collapsed": false
   },
   "outputs": [],
   "source": [
    "for i in range(1, 11):\n",
    "    name = 'data'+str(i)+'.pickle'\n",
    "    if i == 1:\n",
    "        data = pd.read_pickle(name)\n",
    "    else:\n",
    "        new = pd.read_pickle(name)\n",
    "        data = pd.concat([data, new])"
   ]
  },
  {
   "cell_type": "code",
   "execution_count": 20,
   "metadata": {
    "collapsed": false
   },
   "outputs": [],
   "source": [
    "extractor = FastNPExtractor()\n",
    "#blob = TextBlob(data['text'][0], np_extractor=extractor)\n",
    "#blob.noun_phrases\n",
    "from nltk.stem import WordNetLemmatizer\n",
    "lem = WordNetLemmatizer()\n",
    "from textblob import Word\n",
    "from textblob.parsers import PatternParser\n",
    "blob = TextBlob(data['text'][0], np_extractor=extractor)"
   ]
  },
  {
   "cell_type": "code",
   "execution_count": 407,
   "metadata": {
    "collapsed": false
   },
   "outputs": [],
   "source": [
    "def print_top_words(model, feature_names, n_top_words):\n",
    "    for topic_idx, topic in enumerate(model.components_):\n",
    "        print(\"Topic #%d:\" % topic_idx)\n",
    "        print(\" \".join([feature_names[i] for i in topic.argsort()[:-n_top_words - 1:-1]]))\n",
    "    print()"
   ]
  },
  {
   "cell_type": "code",
   "execution_count": 969,
   "metadata": {
    "collapsed": true
   },
   "outputs": [],
   "source": [
    "n_features = 1000\n",
    "n_topics = 70\n",
    "n_top_words = 50"
   ]
  },
  {
   "cell_type": "code",
   "execution_count": 614,
   "metadata": {
    "collapsed": false
   },
   "outputs": [],
   "source": [
    "tfidf_vectorizer = TfidfVectorizer(max_df=0.85, min_df=2, tokenizer= split_into_lemmas,\n",
    "                                   #max_features=n_features, \n",
    "                                   stop_words='english')"
   ]
  },
  {
   "cell_type": "code",
   "execution_count": 615,
   "metadata": {
    "collapsed": false
   },
   "outputs": [],
   "source": [
    "tfidf = tfidf_vectorizer.fit_transform(data.text)"
   ]
  },
  {
   "cell_type": "code",
   "execution_count": 970,
   "metadata": {
    "collapsed": true
   },
   "outputs": [],
   "source": [
    "nmf = NMF(n_components=n_topics, random_state=1,\n",
    "          alpha=.1, l1_ratio=.5).fit(tfidf)"
   ]
  },
  {
   "cell_type": "code",
   "execution_count": 971,
   "metadata": {
    "collapsed": false,
    "scrolled": true
   },
   "outputs": [
    {
     "name": "stdout",
     "output_type": "stream",
     "text": [
      "Topic #0:\n",
      "mr said interview christie told campaign office added did news wednesday governor later president years tuesday called new statement lawyer\n",
      "Topic #1:\n",
      "trump donald republican campaign mr candidate presidential hillary nominee convention clinton debate pence speech supporters america n't immigration voters party\n",
      "Topic #2:\n",
      "company said companies billion million business executive chief year sales deal percent industry new market employees customers quarter price revenue\n",
      "Topic #3:\n",
      "team game season players league coach games n.f.l teams said football player play quarterback yards goal cup soccer played fans\n",
      "Topic #4:\n",
      "percent rose cents fell stocks oil index prices crude investors stock barrel yen points dow ounce shares market gained price\n",
      "Topic #5:\n",
      "clinton mrs campaign hillary voters emails democratic email secretary debate state election presidential president server f.b.i comey kaine polls aides\n",
      "Topic #6:\n",
      "obama president white administration house cuba american states united washington congress cuban america bush speech americans republicans mr policy presidency\n",
      "Topic #7:\n",
      "police officers officer said department black shooting man shot killed enforcement video chief authorities shootings officials arrested dallas crime force\n",
      "Topic #8:\n",
      "graduated bride groom father university mother married couple son daughter received york degree n.y retired officiated laude cum met new\n",
      "Topic #9:\n",
      "zika virus mosquito mosquitoes pregnant health microcephaly infected cases brazil c.d.c disease transmission infection dengue said spread outbreak birth aedes\n",
      "Topic #10:\n",
      "china chinese beijing hong kong xi taiwan sea government philippines foreign mainland united communist party states south said duterte countries\n",
      "Topic #11:\n",
      "european britain union british europe brexit referendum cameron bloc london vote leave minister e.u prime party parliament labour economic brussels\n",
      "Topic #12:\n",
      "p.m york new times a.m brooklyn today island park street free ferry nytoday staten subway city queens day morning east\n",
      "Topic #13:\n",
      "bank banks financial deutsche banking wells fargo loans credit billion central regulators jpmorgan barclays goldman stumpf lender crisis accounts trading\n",
      "Topic #14:\n",
      "points scored rebounds assists lead seconds beat win game straight visiting goal victory second nets host games conference 12 added\n",
      "Topic #15:\n",
      "economy growth fed economic percent rate workers labor jobs rates inflation market trade economists increase unemployment policy wages spending report\n",
      "Topic #16:\n",
      "iran nuclear iranian sanctions tehran rouhani deal iranians agreement united states ayatollah american khamenei hard-liners zarif rezaian kerry weapons foreign\n",
      "Topic #17:\n",
      "korea north nuclear korean south missile kim sanctions weapons test seoul united pyongyang ballistic missiles koreans japan states military jong-un\n",
      "Topic #18:\n",
      "water flint lead snyder residents state environmental drinking officials michigan levels pipes contamination river e.p.a said emergency city crisis federal\n",
      "Topic #19:\n",
      "gay transgender rights law gender carolina people lesbian l.g.b.t orlando discrimination mccrory same-sex bisexual north marriage said state identity bathroom\n",
      "Topic #20:\n",
      "women men woman female abortion gender sexual male sex girls abortions feminist pregnancy pregnant rape percent harassment equal rights young\n",
      "Topic #21:\n",
      "ms said rousseff woman mother husband family kelly daughter children interview apartment girl added home actress told recalled lawyer brazil\n",
      "Topic #22:\n",
      "islamic syria state united government military syrian iraq said forces nations war states fighters american officials aleppo group civilians iraqi\n",
      "Topic #23:\n",
      "apple iphone f.b.i encryption government phone bernardino privacy security cook tech data software san devices iphones company technology enforcement unlock\n",
      "Topic #24:\n",
      "fund investors funds hedge investment firm money financial stock market investments markets billion stocks equity management capital firms s.e.c assets\n",
      "Topic #25:\n",
      "yankees girardi rodriguez teixeira chapman beltran season runs sabathia inning innings said game cashman tanaka hit sanchez games betances yankee\n",
      "Topic #26:\n",
      "recipe cooking recipes cook chicken food sauce restaurant salad chef melissa make sifton dinner cookingcare dish inbox nytimes.com rice week\n",
      "Topic #27:\n",
      "turkey erdogan turkish coup gulen kurdish istanbul ankara tayyip recep turks kurds syria attempt military syrian p.k.k fethullah government nato\n",
      "Topic #28:\n",
      "prince paisley king purple minneapolis rain estate death salman bhumibol park chanhassen crown nelson bin royal 57 died albums mohammed\n",
      "Topic #29:\n",
      "migrants refugees greece germany europe refugee asylum european merkel turkey countries border seekers nations union syrian german greek crisis migrant\n",
      "Topic #30:\n",
      "sanders bernie democratic clinton voters primary campaign senator supporters delegates iowa hampshire vermont nomination mrs hillary convention candidate caucuses vote\n",
      "Topic #31:\n",
      "book books novel read reading writer story review author editor writing fiction writers readers literary life writes novels stories times\n",
      "Topic #32:\n",
      "israel israeli palestinian netanyahu palestinians jerusalem gaza jewish israelis peres hamas peace minister jews west military abbas prime bank security\n",
      "Topic #33:\n",
      "warriors curry game kerr cavaliers n.b.a golden james spurs thunder finals durant team cleveland green season thompson games points quarter\n",
      "Topic #34:\n",
      "knicks anthony jackson porzingis rambis fisher hornacek team said carmelo noah season rose game coach calderon n.b.a kristaps nets afflalo\n",
      "Topic #35:\n",
      "dr patients said medical drug cancer study researchers doctors university research medicine drugs hospital scientists disease patient treatment brain professor\n",
      "Topic #36:\n",
      "students school schools education college student university teachers colleges high children campus universities parents said faculty state percent teacher class\n",
      "Topic #37:\n",
      "cruz rubio kasich iowa bush hampshire delegates ted senator republican christie mr marco campaign voters candidates primary trump florida race\n",
      "Topic #38:\n",
      "health care insurance insurers coverage medicare patients medicaid premiums affordable plans doctors medical law people hospitals costs obamacare federal plan\n",
      "Topic #39:\n",
      "gun guns violence firearms shooting n.r.a weapons background rifle orlando laws shootings checks control mass safety amendment firearm weapon mateen\n",
      "Topic #40:\n",
      "music album songs song band orchestra jazz concert musicians pop festival opera singer piano rock symphony musical philharmonic sound composer\n",
      "Topic #41:\n",
      "tax taxes income pay returns i.r.s plan budget companies revenue rate cuts corporate estate percent money wealthy federal paid paying\n",
      "Topic #42:\n",
      "russia russian putin ukraine moscow syria kremlin russians vladimir assad nato doping syrian ukrainian aleppo crimea soviet president war military\n",
      "Topic #43:\n",
      "cubs game indians inning series innings dodgers baseball hit sox chicago runs maddon league hits cleveland homer arrieta kershaw pitch\n",
      "Topic #44:\n",
      "court justice judge law supreme case federal scalia decision lawyers cases legal justices prosecutors ruling appeals trial state district criminal\n",
      "Topic #45:\n",
      "facebook twitter news media users social video fox network online times live ailes internet post snapchat content instagram people videos\n",
      "Topic #46:\n",
      "bonds million refinancing revenue obligation competitive securities general authority district morgan county markets school unlimited merrill tex auction citigroup four-week\n",
      "Topic #47:\n",
      "taliban afghan afghanistan pakistan kabul forces province helmand insurgents kunduz mullah pakistani military ghani officials killed government said security attack\n",
      "Topic #48:\n",
      "fashion designer designers collection wear clothes brand dress runway paris creative design models week london men shows brands collections dresses\n",
      "Topic #49:\n",
      "attacks france paris french brussels terrorist attack islamic security terrorism belgium belgian abdeslam airport europe hollande authorities muslim intelligence state\n",
      "Topic #50:\n",
      "app subscribe episode icon tap series click podcast search button screen list page android listen podcasts pre-loaded phone ios select\n",
      "Topic #51:\n",
      "climate oil energy gas coal emissions change carbon power plants environmental prices solar fuel natural electricity greenhouse global renewable industry\n",
      "Topic #52:\n",
      "film movie films festival movies documentary hollywood academy story series directed oscar director comedy actors character characters mr awards drama\n",
      "Topic #53:\n",
      "yahoo verizon mayer starboard company internet alibaba aol sale bidders marissa board users billion search web core breach tumblr 4.8\n",
      "Topic #54:\n",
      "saudi arabia yemen saudis kingdom oil coalition riyadh houthis aramco iran shiite saudi-led arab nations sheikh houthi yemeni nimr government\n",
      "Topic #55:\n",
      "city blasio mayor housing new york cuomo state homeless said officials department council residents governor public building democrat administration affordable\n",
      "Topic #56:\n",
      "volkswagen emissions diesel cars vehicles vw owners company scandal cheating software tests porsche states audi carmaker united german muller settlement\n",
      "Topic #57:\n",
      "redstone viacom dauman amusements herzer mr cbs sumner paramount shari trust abrams board directors mental philippe suit national moonves judge\n",
      "Topic #58:\n",
      "ballet dance dancers balanchine theater dancer choreographer company opera choreography peck ballets dancing ratmansky dances choreographers music premiere festival city\n",
      "Topic #59:\n",
      "party republican republicans voters democrats senate election vote democratic political voting senator house state candidates elections presidential nominee votes ryan\n",
      "Topic #60:\n",
      "google microsoft data software amazon android search tech companies technology privacy mobile app a.i computer cloud windows information alphabet devices\n",
      "Topic #61:\n",
      "cars car tesla drivers uber vehicles driver self-driving safety autopilot vehicle autonomous driving automakers technology said takata ford traffic auto\n",
      "Topic #62:\n",
      "puerto rico debt island creditors bankruptcy restructuring rican congress board bonds bondholders payments government restructure billion oversight ricans payment financial\n",
      "Topic #63:\n",
      "art museum artists exhibition gallery artist works paintings painting contemporary work collection galleries sculpture space museums street curator arts auction\n",
      "Topic #64:\n",
      "djokovic tennis match open 6-4 6-3 federer tournament nadal murray round 6-2 slam wimbledon 7-6 matches won final said grand\n",
      "Topic #65:\n",
      "olympic athletes rio olympics games doping sports medal gold brazil sport team janeiro antidoping world wada i.o.c medals said phelps\n",
      "Topic #66:\n",
      "williams serena transfer kerber energy venus pliskova slam graf mouratoglou deal grand sharapova merger muguruza match vinci meister latham board\n",
      "Topic #67:\n",
      "broadway theater musical hamilton play production tony cast revival performances miranda awards stage tickets actors producers productions plays directed season\n",
      "Topic #68:\n",
      "n't like people just 're 'm did time think know way 've really want said going life does work things\n",
      "Topic #69:\n",
      "mets collins cespedes syndergaard degrom harvey season inning game matz said wright innings walker colon reyes runs alderson cabrera pitch\n",
      "()\n"
     ]
    }
   ],
   "source": [
    "tfidf_feature_names = tfidf_vectorizer.get_feature_names()\n",
    "print_top_words(nmf, tfidf_feature_names, 20)"
   ]
  },
  {
   "cell_type": "code",
   "execution_count": 972,
   "metadata": {
    "collapsed": false
   },
   "outputs": [],
   "source": [
    "topics = []\n",
    "for topic in nmf.components_:\n",
    "    topics.append( \"-\".join([tfidf_feature_names[i] for i in topic.argsort()[:-6:-1]]))"
   ]
  },
  {
   "cell_type": "code",
   "execution_count": 973,
   "metadata": {
    "collapsed": false
   },
   "outputs": [
    {
     "data": {
      "text/plain": [
       "[u'mr-said-interview-christie-told',\n",
       " u'trump-donald-republican-campaign-mr',\n",
       " u'company-said-companies-billion-million',\n",
       " u'team-game-season-players-league',\n",
       " u'percent-rose-cents-fell-stocks',\n",
       " u'clinton-mrs-campaign-hillary-voters',\n",
       " u'obama-president-white-administration-house',\n",
       " u'police-officers-officer-said-department',\n",
       " u'graduated-bride-groom-father-university',\n",
       " u'zika-virus-mosquito-mosquitoes-pregnant',\n",
       " u'china-chinese-beijing-hong-kong',\n",
       " u'european-britain-union-british-europe',\n",
       " u'p.m-york-new-times-a.m',\n",
       " u'bank-banks-financial-deutsche-banking',\n",
       " u'points-scored-rebounds-assists-lead',\n",
       " u'economy-growth-fed-economic-percent',\n",
       " u'iran-nuclear-iranian-sanctions-tehran',\n",
       " u'korea-north-nuclear-korean-south',\n",
       " u'water-flint-lead-snyder-residents',\n",
       " u'gay-transgender-rights-law-gender',\n",
       " u'women-men-woman-female-abortion',\n",
       " u'ms-said-rousseff-woman-mother',\n",
       " u'islamic-syria-state-united-government',\n",
       " u'apple-iphone-f.b.i-encryption-government',\n",
       " u'fund-investors-funds-hedge-investment',\n",
       " u'yankees-girardi-rodriguez-teixeira-chapman',\n",
       " u'recipe-cooking-recipes-cook-chicken',\n",
       " u'turkey-erdogan-turkish-coup-gulen',\n",
       " u'prince-paisley-king-purple-minneapolis',\n",
       " u'migrants-refugees-greece-germany-europe',\n",
       " u'sanders-bernie-democratic-clinton-voters',\n",
       " u'book-books-novel-read-reading',\n",
       " u'israel-israeli-palestinian-netanyahu-palestinians',\n",
       " u'warriors-curry-game-kerr-cavaliers',\n",
       " u'knicks-anthony-jackson-porzingis-rambis',\n",
       " u'dr-patients-said-medical-drug',\n",
       " u'students-school-schools-education-college',\n",
       " u'cruz-rubio-kasich-iowa-bush',\n",
       " u'health-care-insurance-insurers-coverage',\n",
       " u'gun-guns-violence-firearms-shooting',\n",
       " u'music-album-songs-song-band',\n",
       " u'tax-taxes-income-pay-returns',\n",
       " u'russia-russian-putin-ukraine-moscow',\n",
       " u'cubs-game-indians-inning-series',\n",
       " u'court-justice-judge-law-supreme',\n",
       " u'facebook-twitter-news-media-users',\n",
       " u'bonds-million-refinancing-revenue-obligation',\n",
       " u'taliban-afghan-afghanistan-pakistan-kabul',\n",
       " u'fashion-designer-designers-collection-wear',\n",
       " u'attacks-france-paris-french-brussels',\n",
       " u'app-subscribe-episode-icon-tap',\n",
       " u'climate-oil-energy-gas-coal',\n",
       " u'film-movie-films-festival-movies',\n",
       " u'yahoo-verizon-mayer-starboard-company',\n",
       " u'saudi-arabia-yemen-saudis-kingdom',\n",
       " u'city-blasio-mayor-housing-new',\n",
       " u'volkswagen-emissions-diesel-cars-vehicles',\n",
       " u'redstone-viacom-dauman-amusements-herzer',\n",
       " u'ballet-dance-dancers-balanchine-theater',\n",
       " u'party-republican-republicans-voters-democrats',\n",
       " u'google-microsoft-data-software-amazon',\n",
       " u'cars-car-tesla-drivers-uber',\n",
       " u'puerto-rico-debt-island-creditors',\n",
       " u'art-museum-artists-exhibition-gallery',\n",
       " u'djokovic-tennis-match-open-6-4',\n",
       " u'olympic-athletes-rio-olympics-games',\n",
       " u'williams-serena-transfer-kerber-energy',\n",
       " u'broadway-theater-musical-hamilton-play',\n",
       " u\"n't-like-people-just-'re\",\n",
       " u'mets-collins-cespedes-syndergaard-degrom']"
      ]
     },
     "execution_count": 973,
     "metadata": {},
     "output_type": "execute_result"
    }
   ],
   "source": []
  },
  {
   "cell_type": "code",
   "execution_count": 974,
   "metadata": {
    "collapsed": false
   },
   "outputs": [],
   "source": [
    "doctopic = nmf.transform(tfidf)\n"
   ]
  },
  {
   "cell_type": "code",
   "execution_count": 1092,
   "metadata": {
    "collapsed": false
   },
   "outputs": [],
   "source": [
    "foo = pd.DataFrame(doctopic)\n",
    "foo.columns = topics"
   ]
  },
  {
   "cell_type": "code",
   "execution_count": 976,
   "metadata": {
    "collapsed": false
   },
   "outputs": [],
   "source": [
    "weights = [nmf.components_[1][i] for i in nmf.components_[1].argsort()[:-n_top_words - 1:-1]]\n",
    "words = [tfidf_feature_names[i] for i in nmf.components_[1].argsort()[:-n_top_words - 1:-1]]"
   ]
  },
  {
   "cell_type": "code",
   "execution_count": 977,
   "metadata": {
    "collapsed": false
   },
   "outputs": [
    {
     "data": {
      "text/plain": [
       "[(7.9235179782286682, 'trump'),\n",
       " (0.93504019607958533, 'donald'),\n",
       " (0.8129886312854504, 'republican'),\n",
       " (0.70631346628549441, 'campaign'),\n",
       " (0.52998634067094852, 'mr'),\n",
       " (0.37600624397622806, 'candidate'),\n",
       " (0.37012471224810312, 'presidential'),\n",
       " (0.35376914103341356, 'hillary'),\n",
       " (0.34515866917937338, 'nominee'),\n",
       " (0.34193983496966984, 'convention'),\n",
       " (0.33965625417272011, 'clinton'),\n",
       " (0.33808433819074846, 'debate'),\n",
       " (0.31314273025889072, 'pence'),\n",
       " (0.24425970079572784, 'speech'),\n",
       " (0.2325391832882592, 'supporters'),\n",
       " (0.22979049717744388, 'america'),\n",
       " (0.2111881286491373, \"n't\"),\n",
       " (0.20195609099347683, 'immigration'),\n",
       " (0.20194197232267477, 'voters'),\n",
       " (0.19928979885982817, 'party'),\n",
       " (0.19417004027718568, 'romney'),\n",
       " (0.19203879146157243, 'immigrants'),\n",
       " (0.18118945593716468, 'news'),\n",
       " (0.17503223189313635, 'rally'),\n",
       " (0.17451525372807006, 'republicans'),\n",
       " (0.17318920043618097, 'ryan'),\n",
       " (0.16659153197658116, 'states'),\n",
       " (0.16577007763111268, 'american'),\n",
       " (0.16335371042265143, 'election'),\n",
       " (0.15814300375262813, 'political'),\n",
       " (0.15813690618183834, 'comments'),\n",
       " (0.15342068307975135, 'remarks'),\n",
       " (0.15254776835082159, 'candidacy'),\n",
       " (0.1501108831657105, 'support'),\n",
       " (0.14618446407669214, 'president'),\n",
       " (0.1434089965981557, 'country'),\n",
       " (0.14338419607265343, 'policy'),\n",
       " (0.14216385196640713, 'candidates'),\n",
       " (0.1390338765532198, 'trade'),\n",
       " (0.13488468842256013, 'people'),\n",
       " (0.13371103159007788, 'muslims'),\n",
       " (0.13145125031731822, 'mexico'),\n",
       " (0.12753961712255901, 'media'),\n",
       " (0.12708338892920099, 'fox'),\n",
       " (0.12521129106304765, 'editor'),\n",
       " (0.12099145694471414, 'presumptive'),\n",
       " (0.11884453446320065, 'nomination'),\n",
       " (0.11629645524668536, 'cleveland'),\n",
       " (0.11610478090366139, 'national'),\n",
       " (0.11468528494056926, 'lewandowski')]"
      ]
     },
     "execution_count": 977,
     "metadata": {},
     "output_type": "execute_result"
    }
   ],
   "source": [
    "zip (weights, words)"
   ]
  },
  {
   "cell_type": "code",
   "execution_count": 1093,
   "metadata": {
    "collapsed": false
   },
   "outputs": [],
   "source": [
    "foo.index = data.title"
   ]
  },
  {
   "cell_type": "code",
   "execution_count": 1094,
   "metadata": {
    "collapsed": false,
    "scrolled": true
   },
   "outputs": [],
   "source": [
    "\n",
    "foo[foo>0.008] = 1\n",
    "foo[foo<=0.008] = 0"
   ]
  },
  {
   "cell_type": "code",
   "execution_count": 1095,
   "metadata": {
    "collapsed": false
   },
   "outputs": [],
   "source": [
    "sumtopic = pd.DataFrame(foo.sum())"
   ]
  },
  {
   "cell_type": "code",
   "execution_count": 1096,
   "metadata": {
    "collapsed": false
   },
   "outputs": [],
   "source": [
    "sumtopic = sumtopic.sort_values(by = 0, ascending=False)"
   ]
  },
  {
   "cell_type": "code",
   "execution_count": 1108,
   "metadata": {
    "collapsed": false
   },
   "outputs": [],
   "source": [
    "toptopic.columns = ['# of articles']"
   ]
  },
  {
   "cell_type": "code",
   "execution_count": 1103,
   "metadata": {
    "collapsed": false
   },
   "outputs": [],
   "source": [
    "toptopic.index = ['general', 'politics', 'business', 'gender issue', 'US-Syria', 'NY local', 'supreme court',\n",
    "                 'police-shooting', 'sports', 'NY housing', 'election', 'human-interest', 'books', 'social media usage',\n",
    "                 'medicine/healthcare', 'economy', 'obama white house']"
   ]
  },
  {
   "cell_type": "code",
   "execution_count": 1109,
   "metadata": {
    "collapsed": false
   },
   "outputs": [
    {
     "data": {
      "text/plain": [
       "<matplotlib.axes._subplots.AxesSubplot at 0x122057f90>"
      ]
     },
     "execution_count": 1109,
     "metadata": {},
     "output_type": "execute_result"
    },
    {
     "data": {
      "image/png": "[encoded data removed]",
      "text/plain": [
       "<matplotlib.figure.Figure at 0x1211fd050>"
      ]
     },
     "metadata": {},
     "output_type": "display_data"
    }
   ],
   "source": [
    "import seaborn as sns\n",
    "toptopic.plot(kind = 'bar')"
   ]
  },
  {
   "cell_type": "code",
   "execution_count": 321,
   "metadata": {
    "collapsed": false
   },
   "outputs": [],
   "source": [
    "data['pubdate'] = data.pubdate.apply(parse)"
   ]
  },
  {
   "cell_type": "code",
   "execution_count": 353,
   "metadata": {
    "collapsed": false
   },
   "outputs": [],
   "source": [
    "pickle.dump(nmf, open('nmf_model.p', \"wb\" ))"
   ]
  },
  {
   "cell_type": "markdown",
   "metadata": {},
   "source": [
    "### Finding sentence importance for any given article"
   ]
  },
  {
   "cell_type": "code",
   "execution_count": 1059,
   "metadata": {
    "collapsed": false
   },
   "outputs": [
    {
     "data": {
      "text/plain": [
       "u'The Sins of the Chicago Police Laid Bare'"
      ]
     },
     "execution_count": 1059,
     "metadata": {},
     "output_type": "execute_result"
    }
   ],
   "source": [
    "document = data.loc[19397]['text']\n",
    "\n",
    "data.loc[19397]['title']"
   ]
  },
  {
   "cell_type": "code",
   "execution_count": 1060,
   "metadata": {
    "collapsed": false
   },
   "outputs": [],
   "source": [
    "#transform document into existing nytimes tfidf space\n",
    "mew = tfidf_vectorizer.transform([document])\n",
    "\n",
    "#transform vectorized document into topic space\n",
    "mu = nmf.transform(mew)[0]"
   ]
  },
  {
   "cell_type": "code",
   "execution_count": 1075,
   "metadata": {
    "collapsed": false
   },
   "outputs": [
    {
     "data": {
      "text/plain": [
       "(70,)"
      ]
     },
     "execution_count": 1075,
     "metadata": {},
     "output_type": "execute_result"
    }
   ],
   "source": [
    "mu.shape"
   ]
  },
  {
   "cell_type": "code",
   "execution_count": 1063,
   "metadata": {
    "collapsed": false
   },
   "outputs": [
    {
     "name": "stdout",
     "output_type": "stream",
     "text": [
      "(u'police-officers-officer-said-department', 0.086700930480897706)\n",
      "(u'city-blasio-mayor-housing-new', 0.01699146873268868)\n",
      "(u'percent-rose-cents-fell-stocks', 0.010940270957008899)\n"
     ]
    }
   ],
   "source": [
    "#get index of top topics\n",
    "b = mu.argsort()[::-1]\n",
    "num = len(mu[mu>=0.008])\n",
    "topic2word = [{} for _ in range(num)]\n",
    "topicw = np.zeros(num)\n",
    "z = 0\n",
    "#make dictionary of words to weight for each top topic\n",
    "for ind, i in enumerate(b[:num]):\n",
    "    if i == 0:\n",
    "        z = 1\n",
    "        print ('general interest')\n",
    "    else:\n",
    "        print (topics[i], mu[i])\n",
    "        weights = nmf.components_[i][nmf.components_[i]>0]\n",
    "        words = np.array(tfidf_feature_names)[nmf.components_[i]>0]\n",
    "        dic = zip(words, weights)\n",
    "        topic2word[ind-z] = dict((x, y) for x, y in dic)\n",
    "        topicw[ind-z] = mu[i]\n",
    "topicw = topicw/np.max(topicw)"
   ]
  },
  {
   "cell_type": "code",
   "execution_count": 1073,
   "metadata": {
    "collapsed": false
   },
   "outputs": [],
   "source": [
    "n_top_sen = 5\n",
    "document = unidecode.unidecode(document)\n",
    "blob = TextBlob(document).lower()\n",
    "sentence_score = []\n",
    "\n",
    "for j in blob.sentences:\n",
    "    score = 0\n",
    "    for i in set(j.words):\n",
    "        for ind, topic in enumerate(topic2word):\n",
    "            if i in topic.keys():\n",
    "                score += topic[i]#*topicw[ind]\n",
    "    if len(j.words) >= 10:\n",
    "        #print j\n",
    "        #print score/len(j.words)\n",
    "        sentence_score.append(score/len(j.words))\n",
    "    else:\n",
    "        #print j\n",
    "        #print 'too short!!'\n",
    "        sentence_score.append(0)\n",
    "\n",
    "\n"
   ]
  },
  {
   "cell_type": "code",
   "execution_count": 1074,
   "metadata": {
    "collapsed": false
   },
   "outputs": [
    {
     "name": "stdout",
     "output_type": "stream",
     "text": [
      "[(Sentence(\"-- two cities where police killings of civilians have provoked deep public outrage.\"), 0.46294996038357455), (Sentence(\"when police officers fired their tasers, african-americans were targeted 76 percent of the time, compared with 13 percent for hispanics and 8 percent for whites.\"), 0.41400471431956376), (Sentence(\"african-americans, who make up only one-third of the city's population, made up nearly three-quarters of the people who were shot by police officers between 2008 and 2015, compared with 14 percent for hispanics and 8 percent for whites.\"), 0.3860942732976439), (Sentence(\"the video contradicted a police news release saying that the young man was killed because he had been menacing the officer.\"), 0.36252470259923292), (Sentence(\"mayor emanuel created the task force in december, not long after the city released a police video showing a white police officer, jason van dyke, executing a black teenager named laquan mcdonald on a street on the south side of chicago.\"), 0.35775884206921038)]\n"
     ]
    }
   ],
   "source": [
    "sentence_score = np.array(sentence_score)\n",
    "print [(blob.sentences[i], sentence_score[i]) for i in sentence_score.argsort()[:-n_top_sen - 1:-1]] \n"
   ]
  },
  {
   "cell_type": "code",
   "execution_count": 911,
   "metadata": {
    "collapsed": false
   },
   "outputs": [
    {
     "name": "stdout",
     "output_type": "stream",
     "text": [
      "[0.65243512802800263, 0.28015449090357175, 0.22818006496079343, 0.21672426508851741, 0.19033030697350153]\n"
     ]
    }
   ],
   "source": [
    "print [sentence_score[i] for i in sentence_score.argsort()[:-n_top_sen - 1:-1]]"
   ]
  },
  {
   "cell_type": "code",
   "execution_count": 1077,
   "metadata": {
    "collapsed": true
   },
   "outputs": [],
   "source": [
    "pickle.dump(nmf, open( \"nmf_model.p\", \"wb\" ) )\n",
    "pickle.dump(tfidf_vectorizer, open('tfidf.p', 'wb'))"
   ]
  },
  {
   "cell_type": "code",
   "execution_count": 1079,
   "metadata": {
    "collapsed": true
   },
   "outputs": [],
   "source": [
    "pickle.dump(topics, open('topics.p', 'wb'))"
   ]
  },
  {
   "cell_type": "code",
   "execution_count": null,
   "metadata": {
    "collapsed": true
   },
   "outputs": [],
   "source": []
  }
 ],
 "metadata": {
  "anaconda-cloud": {},
  "kernelspec": {
   "display_name": "Python [Root]",
   "language": "python",
   "name": "Python [Root]"
  },
  "language_info": {
   "codemirror_mode": {
    "name": "ipython",
    "version": 2
   },
   "file_extension": ".py",
   "mimetype": "text/x-python",
   "name": "python",
   "nbconvert_exporter": "python",
   "pygments_lexer": "ipython2",
   "version": "2.7.12"
  }
 },
 "nbformat": 4,
 "nbformat_minor": 0
}
